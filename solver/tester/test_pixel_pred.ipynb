{
 "cells": [
  {
   "cell_type": "code",
   "execution_count": 1,
   "metadata": {},
   "outputs": [],
   "source": [
    "%load_ext autoreload\n",
    "%autoreload 2"
   ]
  },
  {
   "cell_type": "code",
   "execution_count": 2,
   "metadata": {},
   "outputs": [
    {
     "name": "stderr",
     "output_type": "stream",
     "text": [
      "\n"
     ]
    }
   ],
   "source": [
    "from cpt.solver import make_env\n",
    "from cpt.solver.iter_nn import Solver"
   ]
  },
  {
   "cell_type": "code",
   "execution_count": 3,
   "metadata": {},
   "outputs": [
    {
     "name": "stdout",
     "output_type": "stream",
     "text": [
      "E: 5000.0\n",
      "gravity: (0., -1., 0.)\n",
      "grid_size: (1., 1., 1.)\n",
      "ground_friction: 5.0\n",
      "max_steps: 1024\n",
      "n_particles: 20000\n",
      "nu: 0.2\n",
      "yield_stress: 100.0\n",
      "LOADING....\n",
      "Loaded with 0.00028443336486816406 secs.\n",
      "GPU 0/1 memory: free=4.873, total=10.917\n",
      "init renderer\n"
     ]
    },
    {
     "data": {
      "text/plain": [
       "<All keys matched successfully>"
      ]
     },
     "execution_count": 3,
     "metadata": {},
     "output_type": "execute_result"
    }
   ],
   "source": [
    "env = make_env()\n",
    "env.reset()\n",
    "import torch\n",
    "actor_before = torch.load('../../model/pred_xyz/best_actor')\n",
    "\n",
    "solver = Solver.parse(env, low_steps=40, parse_prefix='solver', head_cfg=dict(TYPE=\"ParticleHead\"))\n",
    "solver.actor.load_state_dict(actor_before.state_dict())"
   ]
  },
  {
   "cell_type": "code",
   "execution_count": 4,
   "metadata": {},
   "outputs": [],
   "source": [
    "inp = []\n",
    "for i in range(10):\n",
    "    inp.append(env.reset())\n"
   ]
  },
  {
   "cell_type": "code",
   "execution_count": 5,
   "metadata": {},
   "outputs": [
    {
     "name": "stdout",
     "output_type": "stream",
     "text": [
      "means tensor([-0.7847,  0.5581, -0.8101, -1.4464,  0.2182,  0.3797,  0.7803,  0.5909,\n",
      "         0.2043,  1.2877,  1.2117, -0.2895], device='cuda:0',\n",
      "       grad_fn=<SelectBackward0>)\n",
      "rts tensor([-8.3696e-01,  1.4316e+00,  4.0467e+00,  8.3259e-02,  6.5191e-02,\n",
      "        -8.8027e-03, -3.0749e+01,  3.9533e+01,  4.8577e+01,  2.6242e-01,\n",
      "        -9.9332e-02, -4.4524e-01], device='cuda:0')\n"
     ]
    }
   ],
   "source": [
    "data = solver.actor(inp)"
   ]
  },
  {
   "cell_type": "code",
   "execution_count": 7,
   "metadata": {},
   "outputs": [
    {
     "name": "stdout",
     "output_type": "stream",
     "text": [
      "tensor([1.0000, 1.0000, 1.0000, 0.9997, 0.9999, 0.9999], device='cuda:0') actions tensor([1., 1., 1., 1., 1., 1.], device='cuda:0')\n",
      "tensor([-0.8370,  1.4316,  4.0467,  0.0833,  0.0652, -0.0088], device='cuda:0',\n",
      "       grad_fn=<DivBackward0>) actions tensor([1., 1., 1., 1., 1., 1.], device='cuda:0')\n",
      "tensor([1.0000, 1.0000, 1.0000, 0.9998, 0.9996, 0.9995], device='cuda:0') actions tensor([1., 1., 1., 1., 1., 1.], device='cuda:0')\n",
      "tensor([-30.7487,  39.5334,  48.5767,   0.2624,  -0.0993,  -0.4452],\n",
      "       device='cuda:0', grad_fn=<DivBackward0>) actions tensor([1., 1., 1., 1., 1., 1.], device='cuda:0')\n"
     ]
    },
    {
     "data": {
      "text/plain": [
       "{'mean_loss': tensor(401.3214, device='cuda:0', grad_fn=<MseLossBackward0>),\n",
       " 'p_loss': tensor(15.9340, device='cuda:0', grad_fn=<AddBackward0>)}"
      ]
     },
     "execution_count": 7,
     "metadata": {},
     "output_type": "execute_result"
    }
   ],
   "source": [
    "inp[0]['agent']\n",
    "import torch\n",
    "action = torch.rand(size=(10, 12), device='cuda:0')\n",
    "solver.actor.head.bc_loss(inp, data, action)"
   ]
  }
 ],
 "metadata": {
  "interpreter": {
   "hash": "24236117ad173cc854a0dd25003fea5af2f1994b54cc411799a7839c458fe3be"
  },
  "kernelspec": {
   "display_name": "Python 3.7.3 ('base')",
   "language": "python",
   "name": "python3"
  },
  "language_info": {
   "codemirror_mode": {
    "name": "ipython",
    "version": 3
   },
   "file_extension": ".py",
   "mimetype": "text/x-python",
   "name": "python",
   "nbconvert_exporter": "python",
   "pygments_lexer": "ipython3",
   "version": "3.7.3"
  },
  "orig_nbformat": 4
 },
 "nbformat": 4,
 "nbformat_minor": 2
}
