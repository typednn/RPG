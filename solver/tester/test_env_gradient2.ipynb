{
 "cells": [
  {
   "cell_type": "code",
   "execution_count": null,
   "metadata": {},
   "outputs": [],
   "source": [
    "%load_ext autoreload\n",
    "%autoreload 2"
   ]
  },
  {
   "cell_type": "code",
   "execution_count": null,
   "metadata": {},
   "outputs": [],
   "source": [
    "import torch\n",
    "from cpt.solver import make_env\n",
    "\n",
    "env = make_env('grad_press')\n",
    "env.reset()\n",
    "\n",
    "state = env.get_state()\n",
    "\n",
    "env.render('plt')"
   ]
  },
  {
   "cell_type": "code",
   "execution_count": null,
   "metadata": {},
   "outputs": [],
   "source": [
    "import torch\n",
    "from torch import nn\n",
    "import numpy as np\n",
    "\n",
    "action = nn.Parameter(torch.tensor(np.zeros((50, 12)), dtype=torch.float32).to('cuda:0'))\n",
    "optim = torch.optim.Adam([action], lr=0.1)\n",
    "import tqdm\n",
    "\n",
    "env.reset(requires_grad=True)\n",
    "for i in tqdm.trange(200):\n",
    "    grad = np.array(env.compute_gradient_example(state, action, max_episode_steps=50))\n",
    "    optim.zero_grad()\n",
    "    action.grad = -torch.tensor(grad, dtype=torch.float32).to('cuda:0')\n",
    "    optim.step()\n"
   ]
  },
  {
   "cell_type": "code",
   "execution_count": null,
   "metadata": {},
   "outputs": [],
   "source": [
    "\n",
    "env.execute(state, action[:].detach().cpu().numpy(), 'xx.mp4')"
   ]
  }
 ],
 "metadata": {
  "interpreter": {
   "hash": "341759b73095ff04a81eea761da95edf1f6c3c823831226adf9c9f44e7b5b37c"
  },
  "kernelspec": {
   "display_name": "Python 3.8.12 64-bit (conda)",
   "language": "python",
   "name": "python3"
  },
  "language_info": {
   "codemirror_mode": {
    "name": "ipython",
    "version": 3
   },
   "file_extension": ".py",
   "mimetype": "text/x-python",
   "name": "python",
   "nbconvert_exporter": "python",
   "pygments_lexer": "ipython3",
   "version": "3.8.12"
  },
  "orig_nbformat": 4
 },
 "nbformat": 4,
 "nbformat_minor": 2
}
