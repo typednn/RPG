{
 "cells": [
  {
   "cell_type": "code",
   "execution_count": null,
   "metadata": {},
   "outputs": [],
   "source": [
    "%load_ext autoreload\n",
    "%autoreload 2"
   ]
  },
  {
   "cell_type": "code",
   "execution_count": null,
   "metadata": {},
   "outputs": [],
   "source": [
    "from llm.envs import MultiToolEnv, WorldState\n",
    "from llm.envs import test_utils as tu\n",
    "import numpy as np\n",
    "\n",
    "\n",
    "env = MultiToolEnv(sim_cfg=dict(max_steps=1024))\n",
    "tu.init_scene(env, 0)\n",
    "state = env.get_state()\n",
    "state = state.switch_tools('Gripper', np.array([0.5, 0.1, 0.5, 0., 0., 0., 1.3]))\n",
    "env.set_state(state)\n",
    "env.render('plt')"
   ]
  },
  {
   "cell_type": "code",
   "execution_count": null,
   "metadata": {},
   "outputs": [],
   "source": [
    "env.set_state(state)\n",
    "images = []\n",
    "for i in range(100):\n",
    "    env.step([0., 1. if i>50 else 0., 0., 0., 0., 0., -1. if i < 40 else 0.])\n",
    "    images.append(env.render('rgb_array'))\n",
    "\n",
    "from tools.utils import animate\n",
    "animate(images)"
   ]
  },
  {
   "cell_type": "code",
   "execution_count": null,
   "metadata": {},
   "outputs": [],
   "source": [
    "import torch\n",
    "from torch import nn, optim\n",
    "from tools.utils import totensor\n",
    "\n",
    "torch.autograd.set_detect_anomaly(True)\n",
    "\n",
    "actions = nn.Parameter(totensor(np.zeros((50, 7)), 'cuda:0'), requires_grad=True)\n",
    "adam = optim.Adam([actions], lr=0.1)\n",
    "\n",
    "import tqdm\n",
    "for i in tqdm.trange(20):\n",
    "    adam.zero_grad()\n",
    "    env.set_state(state, requires_grad=True)\n",
    "    loss = 0\n",
    "    for i in range(50):\n",
    "        env.step(actions[i])\n",
    "        obs = env.get_obs()\n",
    "        loss = loss - obs['pos'].mean(axis=0)[1] + torch.relu(obs['dist'].min(axis=0).values).sum()\n",
    "\n",
    "    print(loss)\n",
    "    loss.backward()\n",
    "    adam.step()\n",
    "    actions.data.clamp_(-1, 1)"
   ]
  },
  {
   "cell_type": "code",
   "execution_count": null,
   "metadata": {},
   "outputs": [],
   "source": [
    "env.set_state(state)\n",
    "images = []\n",
    "for i in range(50):\n",
    "    env.step(actions[i].detach())\n",
    "    images.append(env.render('rgb_array'))\n",
    "\n",
    "animate(images, 'tmp2.mp4')"
   ]
  },
  {
   "cell_type": "code",
   "execution_count": null,
   "metadata": {},
   "outputs": [],
   "source": [
    "env.set_state(state, requires_grad=True)\n",
    "adam.zero_grad()\n",
    "loss = 0\n",
    "for i in range(50):\n",
    "    env.step(actions[i])\n",
    "    obs = env.get_obs()\n",
    "    if i == 30:\n",
    "        loss = loss - obs['pos'].mean(axis=0)[1] + torch.relu(obs['dist'].min(axis=0).values).sum()\n",
    "\n",
    "print(loss)\n",
    "loss.backward()\n",
    "grad = actions.grad.detach().cpu().numpy()\n",
    "\n",
    "state5 = env.get_state(index=5 * 20)"
   ]
  },
  {
   "cell_type": "code",
   "execution_count": null,
   "metadata": {},
   "outputs": [],
   "source": [
    "env.set_state(state5, requires_grad=True)\n",
    "\n",
    "adam.zero_grad()\n",
    "loss = 0\n",
    "for i in range(40):\n",
    "    env.step(actions[i+5])\n",
    "    obs = env.get_obs()\n",
    "    if i == 25:\n",
    "        loss = loss - obs['pos'].mean(axis=0)[1] + torch.relu(obs['dist'].min(axis=0).values).sum()\n",
    "\n",
    "print(loss)\n",
    "loss.backward()\n",
    "grad2 = actions.grad.detach().cpu().numpy()"
   ]
  },
  {
   "cell_type": "code",
   "execution_count": null,
   "metadata": {},
   "outputs": [],
   "source": [
    "print(grad[5:25][0])\n",
    "print(grad2[5:25][0])"
   ]
  }
 ],
 "metadata": {
  "kernelspec": {
   "display_name": "Python 3.9.12 ('py39')",
   "language": "python",
   "name": "python3"
  },
  "language_info": {
   "codemirror_mode": {
    "name": "ipython",
    "version": 3
   },
   "file_extension": ".py",
   "mimetype": "text/x-python",
   "name": "python",
   "nbconvert_exporter": "python",
   "pygments_lexer": "ipython3",
   "version": "3.9.12"
  },
  "orig_nbformat": 4,
  "vscode": {
   "interpreter": {
    "hash": "fddca514e2827b95124bdcec510f50d1fb54b4e8b9793e23e9bd9a10394dd7ae"
   }
  }
 },
 "nbformat": 4,
 "nbformat_minor": 2
}
